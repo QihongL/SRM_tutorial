{
 "cells": [
  {
   "cell_type": "markdown",
   "metadata": {},
   "source": [
    "# Import Libraries"
   ]
  },
  {
   "cell_type": "code",
   "execution_count": 10,
   "metadata": {
    "collapsed": false
   },
   "outputs": [],
   "source": [
    "%matplotlib inline\n",
    "import numpy as np\n",
    "import sys\n",
    "import nibabel as nib"
   ]
  },
  {
   "cell_type": "markdown",
   "metadata": {},
   "source": [
    "# Download Data"
   ]
  },
  {
   "cell_type": "markdown",
   "metadata": {},
   "source": [
    "run download-data.sh before executing the notebook"
   ]
  },
  {
   "cell_type": "markdown",
   "metadata": {},
   "source": [
    "# run searchlight SRM"
   ]
  },
  {
   "cell_type": "code",
   "execution_count": 12,
   "metadata": {
    "collapsed": false,
    "scrolled": true
   },
   "outputs": [
    {
     "name": "stdout",
     "output_type": "stream",
     "text": [
      "[[[ 0.          0.          0.          0.          0.          0.          0.\r\n",
      "    0.          0.          0.        ]\r\n",
      "  [ 0.          0.          0.          0.          0.          0.          0.\r\n",
      "    0.          0.          0.        ]\r\n",
      "  [ 0.          0.          0.          0.          0.          0.          0.\r\n",
      "    0.          0.          0.        ]\r\n",
      "  [ 0.          0.          0.          0.          0.          0.          0.\r\n",
      "    0.          0.          0.        ]\r\n",
      "  [ 0.          0.          0.          0.          0.          0.          0.\r\n",
      "    0.          0.          0.        ]\r\n",
      "  [ 0.          0.          0.          0.          0.          0.          0.\r\n",
      "    0.          0.          0.        ]\r\n",
      "  [ 0.          0.          0.          0.          0.          0.          0.\r\n",
      "    0.          0.          0.        ]\r\n",
      "  [ 0.          0.          0.          0.          0.          0.          0.\r\n",
      "    0.          0.          0.        ]\r\n",
      "  [ 0.          0.          0.          0.          0.          0.          0.\r\n",
      "    0.          0.          0.        ]\r\n",
      "  [ 0.          0.          0.          0.          0.          0.          0.\r\n",
      "    0.          0.          0.        ]]\r\n",
      "\r\n",
      " [[ 0.          0.          0.          0.          0.          0.          0.\r\n",
      "    0.          0.          0.        ]\r\n",
      "  [ 0.          0.01639344  0.05122951  0.09016393  0.13797814  0.10655738\r\n",
      "    0.04030055  0.02117486  0.01161202  0.        ]\r\n",
      "  [ 0.          0.0170765   0.03961749  0.08469945  0.1284153   0.13251366\r\n",
      "    0.04371585  0.02595628  0.01980874  0.        ]\r\n",
      "  [ 0.          0.01639344  0.03688525  0.12090164  0.1284153   0.12431694\r\n",
      "    0.03346995  0.04918033  0.02185792  0.        ]\r\n",
      "  [ 0.          0.01502732  0.0239071   0.06420765  0.10382514  0.05396175\r\n",
      "    0.0273224   0.01571038  0.01639344  0.        ]\r\n",
      "  [ 0.          0.02185792  0.01980874  0.04849727  0.0976776   0.11270492\r\n",
      "    0.04508197  0.04439891  0.01775956  0.        ]\r\n",
      "  [ 0.          0.01571038  0.04030055  0.03825137  0.05874317  0.05737705\r\n",
      "    0.01980874  0.01912568  0.00819672  0.        ]\r\n",
      "  [ 0.          0.02322404  0.0239071   0.02254098  0.01980874  0.02254098\r\n",
      "    0.02185792  0.00956284  0.0068306   0.        ]\r\n",
      "  [ 0.          0.0102459   0.01502732  0.02868852  0.02663934  0.01980874\r\n",
      "    0.01571038  0.0034153   0.00478142  0.        ]\r\n",
      "  [ 0.          0.          0.          0.          0.          0.          0.\r\n",
      "    0.          0.          0.        ]]\r\n",
      "\r\n",
      " [[ 0.          0.          0.          0.          0.          0.          0.\r\n",
      "    0.          0.          0.        ]\r\n",
      "  [ 0.          0.00819672  0.07650273  0.13934426  0.18237705  0.15163934\r\n",
      "    0.08060109  0.04849727  0.04576503  0.        ]\r\n",
      "  [ 0.          0.0068306   0.05464481  0.14139344  0.16598361  0.11885246\r\n",
      "    0.08265027  0.06147541  0.03142077  0.        ]\r\n",
      "  [ 0.          0.02322404  0.06762295  0.15778689  0.18510929  0.10997268\r\n",
      "    0.05396175  0.05396175  0.0273224   0.        ]\r\n",
      "  [ 0.          0.02459016  0.06762295  0.1010929   0.09357923  0.07035519\r\n",
      "    0.03688525  0.01775956  0.00819672  0.        ]\r\n",
      "  [ 0.          0.01229508  0.03210383  0.04371585  0.07035519  0.08879781\r\n",
      "    0.05259563  0.03756831  0.02322404  0.        ]\r\n",
      "  [ 0.          0.0204918   0.02663934  0.02527322  0.07103825  0.04030055\r\n",
      "    0.03142077  0.02595628  0.01639344  0.        ]\r\n",
      "  [ 0.          0.00751366  0.01844262  0.01571038  0.03893443  0.02527322\r\n",
      "    0.01775956  0.02868852  0.00478142  0.        ]\r\n",
      "  [ 0.          0.00956284  0.00956284  0.01980874  0.03278689  0.01844262\r\n",
      "    0.02595628  0.00614754  0.00478142  0.        ]\r\n",
      "  [ 0.          0.          0.          0.          0.          0.          0.\r\n",
      "    0.          0.          0.        ]]\r\n",
      "\r\n",
      " [[ 0.          0.          0.          0.          0.          0.          0.\r\n",
      "    0.          0.          0.        ]\r\n",
      "  [ 0.          0.02322404  0.12431694  0.21038251  0.31352459  0.23770492\r\n",
      "    0.13661202  0.07103825  0.05806011  0.        ]\r\n",
      "  [ 0.          0.01571038  0.06557377  0.16393443  0.20081967  0.16256831\r\n",
      "    0.09289617  0.06147541  0.04986339  0.        ]\r\n",
      "  [ 0.          0.01844262  0.04781421  0.09221311  0.12363388  0.09016393\r\n",
      "    0.06352459  0.05054645  0.05054645  0.        ]\r\n",
      "  [ 0.          0.0170765   0.03346995  0.04439891  0.04576503  0.05327869\r\n",
      "    0.02937158  0.03893443  0.02527322  0.        ]\r\n",
      "  [ 0.          0.0170765   0.00614754  0.00819672  0.02663934  0.05122951\r\n",
      "    0.02663934  0.04508197  0.03210383  0.        ]\r\n",
      "  [ 0.          0.01434426  0.00887978  0.00273224  0.0136612   0.02254098\r\n",
      "    0.02527322  0.04371585  0.01844262  0.        ]\r\n",
      "  [ 0.          0.00887978  0.01571038  0.00956284  0.02322404  0.0239071\r\n",
      "    0.01912568  0.01775956  0.00887978  0.        ]\r\n",
      "  [ 0.          0.01639344  0.01434426  0.01434426  0.01980874  0.03278689\r\n",
      "    0.02322404  0.00887978  0.00273224  0.        ]\r\n",
      "  [ 0.          0.          0.          0.          0.          0.          0.\r\n",
      "    0.          0.          0.        ]]\r\n",
      "\r\n",
      " [[ 0.          0.          0.          0.          0.          0.          0.\r\n",
      "    0.          0.          0.        ]\r\n",
      "  [ 0.          0.01502732  0.10928962  0.26297814  0.44467213  0.30396175\r\n",
      "    0.17213115  0.07445355  0.04234973  0.        ]\r\n",
      "  [ 0.          0.00614754  0.06284153  0.12568306  0.15300546  0.11338798\r\n",
      "    0.0942623   0.07513661  0.05054645  0.        ]\r\n",
      "  [ 0.          0.00546448  0.03005464  0.04166667  0.05806011  0.03620219\r\n",
      "    0.06079235  0.06489071  0.05669399  0.        ]\r\n",
      "  [ 0.          0.00546448  0.01297814  0.02459016  0.04439891  0.03278689\r\n",
      "    0.03483607  0.04098361  0.02663934  0.        ]\r\n",
      "  [ 0.          0.0034153   0.00887978  0.0102459   0.01161202  0.0170765\r\n",
      "    0.01844262  0.02459016  0.02322404  0.        ]\r\n",
      "  [ 0.          0.0034153   0.01092896  0.00819672  0.0068306   0.01229508\r\n",
      "    0.02800546  0.03483607  0.02459016  0.        ]\r\n",
      "  [ 0.          0.00956284  0.01502732  0.00546448  0.0034153   0.01775956\r\n",
      "    0.02527322  0.03278689  0.01434426  0.        ]\r\n",
      "  [ 0.          0.00751366  0.01639344  0.0102459   0.00956284  0.0273224\r\n",
      "    0.01980874  0.0170765   0.01229508  0.        ]\r\n",
      "  [ 0.          0.          0.          0.          0.          0.          0.\r\n",
      "    0.          0.          0.        ]]\r\n",
      "\r\n",
      " [[ 0.          0.          0.          0.          0.          0.          0.\r\n",
      "    0.          0.          0.        ]\r\n",
      "  [ 0.          0.03005464  0.12295082  0.27185792  0.41461749  0.30259563\r\n",
      "    0.21516393  0.10245902  0.04439891  0.        ]\r\n",
      "  [ 0.          0.01912568  0.06557377  0.13729508  0.19125683  0.12363388\r\n",
      "    0.11885246  0.07513661  0.04576503  0.        ]\r\n",
      "  [ 0.          0.00204918  0.02868852  0.02937158  0.06625683  0.06625683\r\n",
      "    0.06079235  0.06079235  0.06284153  0.        ]\r\n",
      "  [ 0.          0.01502732  0.03142077  0.0273224   0.04508197  0.03551913\r\n",
      "    0.02527322  0.02937158  0.0239071   0.        ]\r\n",
      "  [ 0.          0.00887978  0.01297814  0.00819672  0.01161202  0.01297814\r\n",
      "    0.01297814  0.02663934  0.01502732  0.        ]\r\n",
      "  [ 0.          0.00819672  0.01571038  0.01161202  0.00751366  0.01912568\r\n",
      "    0.01639344  0.0239071   0.02117486  0.        ]\r\n",
      "  [ 0.          0.01297814  0.0170765   0.01571038  0.0170765   0.01571038\r\n",
      "    0.00887978  0.0102459   0.01161202  0.        ]\r\n",
      "  [ 0.          0.01161202  0.00478142  0.01571038  0.0102459   0.01571038\r\n",
      "    0.02459016  0.0136612   0.00546448  0.        ]\r\n",
      "  [ 0.          0.          0.          0.          0.          0.          0.\r\n",
      "    0.          0.          0.        ]]\r\n",
      "\r\n",
      " [[ 0.          0.          0.          0.          0.          0.          0.\r\n",
      "    0.          0.          0.        ]\r\n",
      "  [ 0.          0.00409836  0.1147541   0.23565574  0.30122951  0.2465847\r\n",
      "    0.19535519  0.13046448  0.04918033  0.        ]\r\n",
      "  [ 0.          0.01297814  0.05191257  0.16051913  0.20969945  0.14685792\r\n",
      "    0.11270492  0.10314208  0.05942623  0.        ]\r\n",
      "  [ 0.          0.00546448  0.04098361  0.08948087  0.12978142  0.11407104\r\n",
      "    0.07513661  0.07923497  0.05327869  0.        ]\r\n",
      "  [ 0.          0.01092896  0.0273224   0.06010929  0.05532787  0.05669399\r\n",
      "    0.04508197  0.05396175  0.04508197  0.        ]\r\n",
      "  [ 0.          0.00887978  0.01775956  0.03688525  0.0239071   0.03688525\r\n",
      "    0.03005464  0.02595628  0.02254098  0.        ]\r\n",
      "  [ 0.          0.03005464  0.0204918   0.03210383  0.0170765   0.02254098\r\n",
      "    0.03142077  0.02185792  0.01639344  0.        ]\r\n",
      "  [ 0.          0.01844262  0.01912568  0.02527322  0.01571038  0.02185792\r\n",
      "    0.01844262  0.0136612   0.00956284  0.        ]\r\n",
      "  [ 0.          0.0239071   0.01912568  0.01844262  0.01092896  0.02527322\r\n",
      "    0.01502732  0.03278689  0.00751366  0.        ]\r\n",
      "  [ 0.          0.          0.          0.          0.          0.          0.\r\n",
      "    0.          0.          0.        ]]\r\n",
      "\r\n",
      " [[ 0.          0.          0.          0.          0.          0.          0.\r\n",
      "    0.          0.          0.        ]\r\n",
      "  [ 0.          0.02117486  0.08538251  0.14822404  0.20969945  0.14344262\r\n",
      "    0.10040984  0.06693989  0.01775956  0.        ]\r\n",
      "  [ 0.          0.0068306   0.04576503  0.1318306   0.16939891  0.1386612\r\n",
      "    0.08196721  0.05532787  0.03346995  0.        ]\r\n",
      "  [ 0.          0.0068306   0.03415301  0.11748634  0.17486339  0.09972678\r\n",
      "    0.05122951  0.03415301  0.04576503  0.        ]\r\n",
      "  [ 0.          0.01639344  0.04781421  0.11953552  0.12226776  0.08128415\r\n",
      "    0.04166667  0.03620219  0.02459016  0.        ]\r\n",
      "  [ 0.          0.00887978  0.03005464  0.05737705  0.06967213  0.05532787\r\n",
      "    0.03415301  0.02459016  0.01571038  0.        ]\r\n",
      "  [ 0.          0.01161202  0.04986339  0.04303279  0.03005464  0.03005464\r\n",
      "    0.03142077  0.02322404  0.01571038  0.        ]\r\n",
      "  [ 0.          0.0204918   0.03005464  0.04166667  0.03483607  0.01434426\r\n",
      "    0.02185792  0.00614754  0.00819672  0.        ]\r\n",
      "  [ 0.          0.02459016  0.03142077  0.03142077  0.02595628  0.02868852\r\n",
      "    0.00956284  0.01502732  0.0034153   0.        ]\r\n",
      "  [ 0.          0.          0.          0.          0.          0.          0.\r\n",
      "    0.          0.          0.        ]]\r\n",
      "\r\n",
      " [[ 0.          0.          0.          0.          0.          0.          0.\r\n",
      "    0.          0.          0.        ]\r\n",
      "  [ 0.          0.00887978  0.04508197  0.12090164  0.16803279  0.12363388\r\n",
      "    0.06625683  0.04439891  0.01571038  0.        ]\r\n",
      "  [ 0.          0.00478142  0.05532787  0.09357923  0.09631148  0.15095628\r\n",
      "    0.07855191  0.0204918   0.02117486  0.        ]\r\n",
      "  [ 0.          0.01092896  0.02937158  0.14685792  0.14412568  0.12431694\r\n",
      "    0.03005464  0.0204918   0.02254098  0.        ]\r\n",
      "  [ 0.          0.0136612   0.05259563  0.10245902  0.1181694   0.06625683\r\n",
      "    0.02868852  0.02117486  0.01775956  0.        ]\r\n",
      "  [ 0.          0.00887978  0.04234973  0.06762295  0.06489071  0.04986339\r\n",
      "    0.02868852  0.02937158  0.02117486  0.        ]\r\n",
      "  [ 0.          0.01571038  0.03620219  0.05327869  0.05191257  0.04439891\r\n",
      "    0.04439891  0.02868852  0.0068306   0.        ]\r\n",
      "  [ 0.          0.0068306   0.01775956  0.04303279  0.02595628  0.0102459\r\n",
      "    0.01639344  0.00956284  0.          0.        ]\r\n",
      "  [ 0.          0.00751366  0.0170765   0.02800546  0.02868852  0.04166667\r\n",
      "    0.01502732  0.00409836  0.00204918  0.        ]\r\n",
      "  [ 0.          0.          0.          0.          0.          0.          0.\r\n",
      "    0.          0.          0.        ]]\r\n",
      "\r\n",
      " [[ 0.          0.          0.          0.          0.          0.          0.\r\n",
      "    0.          0.          0.        ]\r\n",
      "  [ 0.          0.          0.          0.          0.          0.          0.\r\n",
      "    0.          0.          0.        ]\r\n",
      "  [ 0.          0.          0.          0.          0.          0.          0.\r\n",
      "    0.          0.          0.        ]\r\n",
      "  [ 0.          0.          0.          0.          0.          0.          0.\r\n",
      "    0.          0.          0.        ]\r\n",
      "  [ 0.          0.          0.          0.          0.          0.          0.\r\n",
      "    0.          0.          0.        ]\r\n",
      "  [ 0.          0.          0.          0.          0.          0.          0.\r\n",
      "    0.          0.          0.        ]\r\n",
      "  [ 0.          0.          0.          0.          0.          0.          0.\r\n",
      "    0.          0.          0.        ]\r\n",
      "  [ 0.          0.          0.          0.          0.          0.          0.\r\n",
      "    0.          0.          0.        ]\r\n",
      "  [ 0.          0.          0.          0.          0.          0.          0.\r\n",
      "    0.          0.          0.        ]\r\n",
      "  [ 0.          0.          0.          0.          0.          0.          0.\r\n",
      "    0.          0.          0.        ]]]\r\n"
     ]
    }
   ],
   "source": [
    "! mpirun -n 16 python3 searchlightsrm_time_segment_matching.py"
   ]
  },
  {
   "cell_type": "markdown",
   "metadata": {
    "collapsed": true
   },
   "source": [
    "# Get Whole Brain Mask"
   ]
  },
  {
   "cell_type": "code",
   "execution_count": 2,
   "metadata": {
    "collapsed": false
   },
   "outputs": [],
   "source": [
    "wbmask_fname = 'data/mask/MNI152_T1_3mm_brain_mask.nii'\n",
    "mask = nib.load(wbmask_fname)\n",
    "affine = mask.affine\n",
    "mask = mask.get_data()\n",
    "zeromaskidx = mask <= 0"
   ]
  },
  {
   "cell_type": "markdown",
   "metadata": {},
   "source": [
    "# Get Accuracy Map"
   ]
  },
  {
   "cell_type": "code",
   "execution_count": 3,
   "metadata": {
    "collapsed": true
   },
   "outputs": [],
   "source": [
    "acc_path = 'data/sherlock/searchlight_srm_tsm_acc.npz'\n",
    "acc_file = np.load(acc_path)\n",
    "acc_map = acc_file['acc']"
   ]
  },
  {
   "cell_type": "markdown",
   "metadata": {},
   "source": [
    "# Map to MNI Space"
   ]
  },
  {
   "cell_type": "code",
   "execution_count": 4,
   "metadata": {
    "collapsed": true
   },
   "outputs": [],
   "source": [
    "# Parameters\n",
    "ds = 6 #downsampled by 6\n",
    "mni_shape = [61,73,61]\n",
    "min_size  = [1,7,0] # min and max of nonzeros\n",
    "max_size  = [59,65,58]\n",
    "\n",
    "acc_mni = np.zeros_like(mask)\n",
    "\n",
    "# mapping (make sure length of each dimension is a multiple of 'ds')\n",
    "acc_mni[min_size[0]-1:max_size[0]+1, min_size[1]-1:max_size[1]+1, min_size[2]:max_size[2]+2] = \\\n",
    "acc_map.repeat(ds, axis=0).repeat(ds, axis=1).repeat(ds, axis=2)\n",
    "\n",
    "# if no downsampling\n",
    "#acc_mni[min_size[0]:max_size[0], min_size[1]:max_size[1], min_size[2]:max_size[2]] = acc_map\n",
    "\n",
    "# mask\n",
    "acc_mni[zeromaskidx] = 0"
   ]
  },
  {
   "cell_type": "markdown",
   "metadata": {},
   "source": [
    "# Save accuracy map"
   ]
  },
  {
   "cell_type": "code",
   "execution_count": 5,
   "metadata": {
    "collapsed": true
   },
   "outputs": [],
   "source": [
    "out_path = 'data/sherlock/searchlight_srm_tsm_acc_mni.nii'\n",
    "acc_img = nib.Nifti1Image(acc_mni, affine)\n",
    "nib.save(acc_img, out_path)"
   ]
  },
  {
   "cell_type": "code",
   "execution_count": 9,
   "metadata": {
    "collapsed": false
   },
   "outputs": [
    {
     "data": {
      "text/plain": [
       "<nilearn.plotting.displays.OrthoSlicer at 0x114cf6ba8>"
      ]
     },
     "execution_count": 9,
     "metadata": {},
     "output_type": "execute_result"
    },
    {
     "data": {
      "image/png": "[encoded data removed]",
      "text/plain": [
       "<matplotlib.figure.Figure at 0x114b5c3c8>"
      ]
     },
     "metadata": {},
     "output_type": "display_data"
    }
   ],
   "source": [
    "from nilearn import plotting\n",
    "plotting.plot_stat_map(out_path)"
   ]
  }
 ],
 "metadata": {
  "anaconda-cloud": {},
  "kernelspec": {
   "display_name": "Python [default]",
   "language": "python",
   "name": "python3"
  },
  "language_info": {
   "codemirror_mode": {
    "name": "ipython",
    "version": 3
   },
   "file_extension": ".py",
   "mimetype": "text/x-python",
   "name": "python",
   "nbconvert_exporter": "python",
   "pygments_lexer": "ipython3",
   "version": "3.5.2"
  }
 },
 "nbformat": 4,
 "nbformat_minor": 2
}
